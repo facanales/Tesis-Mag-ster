{
 "cells": [
  {
   "cell_type": "code",
   "execution_count": 1,
   "id": "faf6cabe",
   "metadata": {},
   "outputs": [
    {
     "name": "stdout",
     "output_type": "stream",
     "text": [
      "1.23.5\n"
     ]
    }
   ],
   "source": [
    "import numpy as np\n",
    "import matplotlib.pyplot as plt\n",
    "\n",
    "print(np.__version__)"
   ]
  },
  {
   "cell_type": "markdown",
   "id": "6de14d95",
   "metadata": {},
   "source": [
    "                                              ## Cosmología LCDM, H0 cerca ##"
   ]
  },
  {
   "cell_type": "code",
   "execution_count": 2,
   "id": "86e95479",
   "metadata": {},
   "outputs": [],
   "source": [
    "# Constantes medidas\n",
    "G0 = 6.67430 * np.power(10., -11.)\n",
    "h_lejos = 0.674 # valor de h hoy determinado a partir del universo lejano 0.674+/-0.005\n",
    "h_cerca = 0.738 # valor de h hoy determinado a partir del universo cercano 0.738+0.007\n",
    "H0_cerca = (h_cerca * 100 * np.power(10., 3.)) / (3.09 * np.power(10., 16.) * np.power(10., 6.)) # Constante de Hubble medido en universo cercano\n",
    "c = 2.99792458 * np.power(10., 5.) * np.power(10., 3.)"
   ]
  },
  {
   "cell_type": "code",
   "execution_count": 3,
   "id": "cbe2f739",
   "metadata": {},
   "outputs": [
    {
     "data": {
      "text/plain": [
       "2.3883495145631068e-18"
      ]
     },
     "execution_count": 3,
     "metadata": {},
     "output_type": "execute_result"
    }
   ],
   "source": [
    "H0_cerca"
   ]
  },
  {
   "cell_type": "code",
   "execution_count": 4,
   "id": "c0a8c926",
   "metadata": {},
   "outputs": [],
   "source": [
    "# Parámetros iniciales (parámetros de densidad asumiendo H0 medido en el universo temprano)\n",
    "Omega_r0 = (4.152 * np.power(10., -5.)) / np.power(h_cerca, 2.)\n",
    "Omega_m0 = 0.143 / np.power(h_cerca, 2.)\n",
    "Omega_L0 = 1 - Omega_m0 - Omega_r0\n",
    "L_clas = (3 * Omega_L0 * np.power(H0_cerca, 2.))/np.power(c, 2.)\n",
    "\n",
    "P = 1000000 # Número de pasos\n",
    "tHi = 0. # tiempo inicial multiplicado por H0\n",
    "tHf = 1. # tiempo final multiplicado por H0\n",
    "Delta_tH_ini = (tHf - tHi) / P # Largo del paso inicial\n",
    "\n",
    "a1 = np.zeros(P, dtype=np.float64)\n",
    "Delta_a = np.zeros(P, dtype=np.float64)\n",
    "tH = np.zeros(P, dtype=np.float64)\n",
    "Delta_tH = np.zeros(P, dtype=np.float64)\n",
    "\n",
    "# Condiciones iniciales\n",
    "a1[0] = 1.\n",
    "tH[0] = 1.\n",
    "Delta_tH[0] = Delta_tH_ini"
   ]
  },
  {
   "cell_type": "code",
   "execution_count": 5,
   "id": "7da68548",
   "metadata": {},
   "outputs": [],
   "source": [
    "# Resolver la evolución del factor de escala en cosmología clásica\n",
    "for i in range(P-1):\n",
    "    Delta_a[i] = np.sqrt((Omega_r0/np.power(a1[i], 2.)) + (Omega_m0/a1[i]) + (Omega_L0*np.power(a1[i], 2.))) * Delta_tH[i]\n",
    "    tH[i+1] = tH[i] - Delta_tH[i]\n",
    "    a1[i+1] = a1[i] - Delta_a[i]\n",
    "    Delta_tH[i+1] = (Delta_a[0]/Delta_tH[0]) * (Delta_tH[i]/Delta_a[i]) * Delta_tH[0]\n",
    "\n",
    "P_ini = P - 9\n",
    "t = np.zeros(P_ini, dtype=np.float64)\n",
    "a = np.zeros(P_ini, dtype=np.float64)\n",
    "z = np.zeros(P_ini, dtype=np.float64)\n",
    "Delta_t = np.zeros(P, dtype=np.float64)\n",
    "\n",
    "# Orden del factor de escala y del tiempo. Se excluyen los factores de escala negativos\n",
    "for i in range(P_ini):\n",
    "    t[i] = (tH[P_ini-i]/H0_cerca) - (tH[P_ini]/H0_cerca)\n",
    "    a[i] = a1[P_ini-i]\n",
    "    z[i] = (1./a[i]) - 1.\n",
    "\n",
    "for i in range(P):\n",
    "    Delta_t[i] = Delta_tH[P-1-i]/H0_cerca #se transforman los Delta_tH a Delta_t y se ordenan\n",
    "\n",
    "t0 = t[P_ini-1] # Edad del universo cosmología LCDM"
   ]
  },
  {
   "cell_type": "code",
   "execution_count": 6,
   "id": "793cfd16",
   "metadata": {},
   "outputs": [],
   "source": [
    "Pm = P_ini - 1\n",
    "Da = np.zeros(Pm, dtype=np.float64)\n",
    "H = np.zeros(Pm, dtype=np.float64)\n",
    "\n",
    "# Cálculo de la derivada del factor de escala y del parámetro de Hubble\n",
    "for i in range(Pm):\n",
    "    Da[i] = (a[i+1]-a[i])/(t[i+1]-t[i])\n",
    "    H[i] = Da[i]/a[i]"
   ]
  },
  {
   "cell_type": "code",
   "execution_count": 7,
   "id": "3703d4f4",
   "metadata": {},
   "outputs": [
    {
     "name": "stdout",
     "output_type": "stream",
     "text": [
      "a_B: 2.394034420694662e-07\n",
      "Da_B 1.0765200124276133e-14\n",
      "t_B en años: 0.0\n",
      "z_B: 4177048.3830654123\n",
      "h_B: 13894732714.144148\n",
      " \n",
      "a_r-m: 0.0002902514482030616\n",
      "Da_r-m 1.0133306357136244e-16\n",
      "t_r-m en años: 50191.82238656305\n",
      "z_r-m: 3444.2885806116437\n",
      "h_r-m: 107878.58884908991\n",
      "Ome_r-Ome_m: 0.30605219899257463\n",
      " \n",
      "a_CMB: 0.0009080283095149841\n",
      "Da_CMB 4.662404618493043e-17\n",
      "t_CMB en años: 367005.88053828746\n",
      "z_CMB: 1100.2872501014222\n",
      "h_CMB: 15866.058491985557\n",
      " \n",
      "a_m-L: 0.702779151948222\n",
      "Da_m-L 2.0516703917139165e-18\n",
      "t_m-L en millones de años: 8986.93598938819\n",
      "z_m-L: 0.4229221188873229\n",
      "h_m-L: 0.9020844589401085\n",
      "Ome_m-Ome_L: 0.009413462571938813\n",
      " \n",
      "a_0: 0.999999\n",
      "Da_0 2.3883480670309967e-18\n",
      "L_0 1.4039746815071237e-52\n",
      "t_0 en millones de años: 13275.896712634605\n",
      "z_0: 1.000001000006634e-06\n",
      "h_0: 0.7380010287141882\n",
      "Omega_rad: 7.623328265802984e-05\n",
      "Omega_mat: 0.2625568261102665\n",
      "Omega_Lam: 0.7373669406070755\n"
     ]
    }
   ],
   "source": [
    "print(\"a_B:\", a[0])\n",
    "print(\"Da_B\", Da[0])\n",
    "print(\"t_B en años:\", t[0]/(60.*60.*24.*365.))\n",
    "print(\"z_B:\", z[0])\n",
    "print(\"h_B:\", (H[0] * 3.09 * np.power(10., 16.) * np.power(10., 6.))/(100 * np.power(10., 3.)))\n",
    "print(\" \")\n",
    "print(\"a_r-m:\", a[285])\n",
    "print(\"Da_r-m\", Da[285])\n",
    "print(\"t_r-m en años:\", t[285]/(60.*60.*24.*365.))\n",
    "print(\"z_r-m:\", z[285])\n",
    "print(\"h_r-m:\", (H[285] * 3.09 * np.power(10., 16.) * np.power(10., 6.))/(100 * np.power(10., 3.)))\n",
    "print(\"Ome_r-Ome_m:\", (Omega_r0/np.power(a[285], 2.)) - (Omega_m0/a[285]))\n",
    "print(\" \")\n",
    "print(\"a_CMB:\", a[902])\n",
    "print(\"Da_CMB\", Da[902])\n",
    "print(\"t_CMB en años:\", t[902]/(60.*60.*24.*365.))\n",
    "print(\"z_CMB:\", z[902])\n",
    "print(\"h_CMB:\", (H[902] * 3.09 * np.power(10., 16.) * np.power(10., 6.))/(100 * np.power(10., 3.)))\n",
    "print(\" \")\n",
    "print(\"a_m-L:\", a[702770])\n",
    "print(\"Da_m-L\", Da[702770])\n",
    "print(\"t_m-L en millones de años:\", t[702770]/(60.*60.*24.*365.*np.power(10., 6.)))\n",
    "print(\"z_m-L:\", z[702770])\n",
    "print(\"h_m-L:\", (H[702770] * 3.09 * np.power(10., 16.) * np.power(10., 6.))/(100 * np.power(10., 3.)))\n",
    "print(\"Ome_m-Ome_L:\", (Omega_m0/a[702770]) - (Omega_L0*np.power(a[702770], 2.)))\n",
    "print(\" \")\n",
    "print(\"a_0:\", a[P_ini-1])\n",
    "print(\"Da_0\", Da[P_ini-2])\n",
    "print(\"L_0\", L_clas)\n",
    "print(\"t_0 en millones de años:\", t[P_ini-1]/(60.*60.*24.*365.*np.power(10., 6.)))\n",
    "print(\"z_0:\", z[P_ini-1])\n",
    "print(\"h_0:\", (H[P_ini-2] * 3.09 * np.power(10., 16.) * np.power(10., 6.))/(100 * np.power(10., 3.)))\n",
    "print(\"Omega_rad:\", Omega_r0)\n",
    "print(\"Omega_mat:\", Omega_m0)\n",
    "print(\"Omega_Lam:\", Omega_L0)"
   ]
  },
  {
   "cell_type": "code",
   "execution_count": 8,
   "id": "54dbb594",
   "metadata": {},
   "outputs": [
    {
     "data": {
      "image/png": "[encoded data removed]",
      "text/plain": [
       "<Figure size 640x480 with 1 Axes>"
      ]
     },
     "metadata": {},
     "output_type": "display_data"
    },
    {
     "data": {
      "text/plain": [
       "<Figure size 1000x600 with 0 Axes>"
      ]
     },
     "metadata": {},
     "output_type": "display_data"
    }
   ],
   "source": [
    "plt.plot(t, a, linewidth=3)\n",
    "plt.xlabel('$t\\;[s]$', fontsize=12)\n",
    "plt.ylabel('$a$', fontsize=12)\n",
    "plt.figure(figsize=(10,6))\n",
    "plt.show()"
   ]
  },
  {
   "cell_type": "code",
   "execution_count": 9,
   "id": "2b81ceb0",
   "metadata": {},
   "outputs": [
    {
     "data": {
      "image/png": "[encoded data removed]",
      "text/plain": [
       "<Figure size 640x480 with 1 Axes>"
      ]
     },
     "metadata": {},
     "output_type": "display_data"
    },
    {
     "data": {
      "text/plain": [
       "<Figure size 1000x600 with 0 Axes>"
      ]
     },
     "metadata": {},
     "output_type": "display_data"
    }
   ],
   "source": [
    "# Se excluyen los valores que no son de interes en la gráfica\n",
    "S = 800 + 100000\n",
    "x = np.zeros(Pm-S, dtype=float)\n",
    "y = np.zeros(Pm-S, dtype=float)\n",
    "for i in range(Pm-S):\n",
    "    x[i] = np.log10(z[i+S-100000])\n",
    "    y[i] = (H[i+S-100000] * 3.09 * np.power(10., 16.) * np.power(10., 6.))/(100 * np.power(10., 3.))\n",
    "    \n",
    "plt.plot(x, y, linewidth=3)\n",
    "plt.xlabel('$log_{10}(z)$')\n",
    "plt.ylabel('$h$')\n",
    "plt.figure(figsize=(10,6))\n",
    "plt.show()"
   ]
  },
  {
   "cell_type": "code",
   "execution_count": 18,
   "id": "f9f905b9",
   "metadata": {},
   "outputs": [],
   "source": [
    "zmin = 996839\n",
    "zmax = 23\n",
    "Nplot = zmin-zmax\n",
    "\n",
    "zplot = np.zeros(Nplot, dtype=np.float64)\n",
    "Omega_rplot = np.zeros(Nplot, dtype=np.float64)\n",
    "Omega_mplot = np.zeros(Nplot, dtype=np.float64)\n",
    "Omega_Lplot = np.zeros(Nplot, dtype=np.float64)\n",
    "\n",
    "for i in range(Nplot):\n",
    "    zplot[i] = z[i+zmax]\n",
    "    Omega_rplot[i] = (Omega_r0*np.power(H0_cerca, 2.))/(np.power(a[i+zmax], 4.)*np.power(H[i+zmax], 2.))\n",
    "    Omega_mplot[i] = (Omega_m0*np.power(H0_cerca, 2.))/(np.power(a[i+zmax], 3.)*np.power(H[i+zmax], 2.))\n",
    "    Omega_Lplot[i] = (Omega_L0*np.power(H0_cerca, 2.))/(np.power(a[i+zmax], 0.)*np.power(H[i+zmax], 2.))"
   ]
  },
  {
   "cell_type": "code",
   "execution_count": 24,
   "id": "1bc14453",
   "metadata": {},
   "outputs": [
    {
     "data": {
      "image/png": "[encoded data removed]",
      "text/plain": [
       "<Figure size 640x480 with 1 Axes>"
      ]
     },
     "metadata": {},
     "output_type": "display_data"
    },
    {
     "data": {
      "text/plain": [
       "<Figure size 1000x600 with 0 Axes>"
      ]
     },
     "metadata": {},
     "output_type": "display_data"
    }
   ],
   "source": [
    "plt.plot(np.log10(zplot), Omega_rplot, color='gold', label='radiación')\n",
    "plt.plot(np.log10(zplot), Omega_mplot, color='blue', label='materia')\n",
    "plt.plot(np.log10(zplot), Omega_Lplot,  color='black', label='energía oscura')\n",
    "plt.legend() # Mostrar leyenda\n",
    "\n",
    "plt.xlabel('$\\log_{10}(z)$', fontsize=12)\n",
    "plt.ylabel('$\\Omega_i$', fontsize=12)\n",
    "plt.figure(figsize=(10,6))\n",
    "plt.show()"
   ]
  },
  {
   "cell_type": "code",
   "execution_count": 11,
   "id": "124540ab",
   "metadata": {},
   "outputs": [],
   "source": [
    "# Promedios de las componentes no dominantes del universo\n",
    "\n",
    "suma_rho_L = 0\n",
    "suma_rho_m1 = 0\n",
    "suma_rho_m2 = 0\n",
    "suma_rho_r = 0\n",
    "\n",
    "for i in range(Pm-1):\n",
    "    if i>=702770:\n",
    "        suma_rho_m1 = suma_rho_m1 + ((3*np.power(c, 2.)*np.power(H0_cerca, 2.)*Omega_m0)/(8*np.pi*G0*np.power(a[i], 3.)))\n",
    "    if i>=285:\n",
    "        if i<702770:\n",
    "            suma_rho_L = suma_rho_L + ((3*np.power(c, 2.)*np.power(H0_cerca, 2.)*Omega_L0)/(8*np.pi*G0*np.power(a[i], 0.)))\n",
    "            suma_rho_r = suma_rho_r + ((3*np.power(c, 2.)*np.power(H0_cerca, 2.)*Omega_r0)/(8*np.pi*G0*np.power(a[i], 4.)))\n",
    "    if i<285:\n",
    "        suma_rho_m2 = suma_rho_m2 + ((3*np.power(c, 2.)*np.power(H0_cerca, 2.)*Omega_m0)/(8*np.pi*G0*np.power(a[i], 3.)))\n",
    "\n",
    "prom_rho_m1 = suma_rho_m1/(t[P_ini-2]-t[702770])\n",
    "prom_rho_L = suma_rho_L/(t[702769]-t[285])\n",
    "prom_rho_r = suma_rho_r/(t[702769]-t[285])\n",
    "prom_rho_m2 = suma_rho_m2/(t[284]-t[0])"
   ]
  },
  {
   "cell_type": "code",
   "execution_count": 12,
   "id": "36d7079d",
   "metadata": {},
   "outputs": [],
   "source": [
    "# Rhos iniciales (tiempo actual)\n",
    "\n",
    "rho_L0 = (3*Omega_L0*np.power(H0_cerca, 2.)*np.power(c, 2.))/(8*np.pi*G0)\n",
    "rho_m0 = (3*Omega_m0*np.power(H0_cerca, 2.)*np.power(c, 2.))/(8*np.pi*G0)\n",
    "rho_r0 = (3*Omega_r0*np.power(H0_cerca, 2.)*np.power(c, 2.))/(8*np.pi*G0)"
   ]
  },
  {
   "cell_type": "code",
   "execution_count": 13,
   "id": "1685c844",
   "metadata": {},
   "outputs": [
    {
     "name": "stdout",
     "output_type": "stream",
     "text": [
      "h_CMB_LCDM_cerca: 15866.058491985557\n"
     ]
    }
   ],
   "source": [
    "h_CMB_LCDM_cerca = (H[902]* 3.09 * np.power(10., 16.) * np.power(10., 6.))/(100 * np.power(10., 3.)) # valor de h en la época del CMB para LCDM considerando H0 cerca\n",
    "print(\"h_CMB_LCDM_cerca:\", h_CMB_LCDM_cerca)"
   ]
  },
  {
   "cell_type": "markdown",
   "id": "5961d0e8",
   "metadata": {},
   "source": [
    "                                        ## Cosmología LCDM aproximada, H0 cerca ##"
   ]
  },
  {
   "cell_type": "code",
   "execution_count": 18,
   "id": "3f4975bb",
   "metadata": {},
   "outputs": [],
   "source": [
    "# Dominio de Lambda\n",
    "\n",
    "# Parámetros iniciales\n",
    "DG0 = 0 * np.power(10., -14.) * G0 # Derivada de G hoy\n",
    "PtiL = 1. # porcentaje del tiempo de transición materia-Lambda SD respecto a la cosmología clásica (1=100%, no hay cambio)\n",
    "\n",
    "Delta_tL = Delta_t[702770]\n",
    "tiL = (t0-t[702770]) * PtiL # tiempo de transición materia-Lambda SD (duración de Lambda)\n",
    "PL = 271505 # número de pasos\n",
    "\n",
    "tL = np.zeros(PL, dtype=np.float64)\n",
    "aL = np.zeros(PL, dtype=np.float64)\n",
    "DaL = np.zeros(PL, dtype=np.float64)\n",
    "DDaL = np.zeros(PL, dtype=np.float64)\n",
    "GL = np.zeros(PL, dtype=np.float64)\n",
    "DGL = np.zeros(PL, dtype=np.float64)\n",
    "DDGL = np.zeros(PL, dtype=np.float64)\n",
    "L = np.zeros(PL, dtype=np.float64)\n",
    "zL = np.zeros(PL, dtype=np.float64)\n",
    "\n",
    "# Condiciones iniciales\n",
    "tL[PL-1] = 0 # esta edad no es relevante, la edad del universo SD es -t_B\n",
    "aL[PL-1] = 1.\n",
    "DaL[PL-1] = H0_cerca\n",
    "GL[PL-1] = G0\n",
    "DGL[PL-1] = DG0\n",
    "zL[PL-1] = (1./aL[PL-1]) - 1."
   ]
  },
  {
   "cell_type": "code",
   "execution_count": 19,
   "id": "6dd280ef",
   "metadata": {},
   "outputs": [
    {
     "name": "stdout",
     "output_type": "stream",
     "text": [
      "271505\n"
     ]
    }
   ],
   "source": [
    "# Resolver la evolución del factor de escala en dominio de Lambda en cosmología SD\n",
    "for i in range(PL-1):\n",
    "    #if i == 0:\n",
    "    #    L[PL-1-i] = L_clas\n",
    "    #if i != 0:\n",
    "    #    L[PL-1-i] = (3./np.power(c, 2.)) * ((np.power(DaL[PL-1-i], 2.)/np.power(aL[PL-1-i], 2.)) - (DaL[PL-1-i]*DGL[PL-1-i])/(aL[PL-1-i]*GL[PL-1-i]))\n",
    "    L[PL-1-i] = (3./np.power(c, 2.)) * ((np.power(DaL[PL-1-i], 2.)/np.power(aL[PL-1-i], 2.)) - (DaL[PL-1-i]*DGL[PL-1-i])/(aL[PL-1-i]*GL[PL-1-i])) - ((8*np.pi*GL[PL-1-i]*rho_m0)/(np.power(c, 4.)*np.power(aL[PL-1-i], 3.))) - ((8*np.pi*GL[PL-1-i]*rho_r0)/(np.power(c, 4.)*np.power(aL[PL-1-i], 4.)))\n",
    "    DDGL[PL-1-i] = GL[PL-1-i] * ((2.*np.power(DGL[PL-1-i], 2.))/(np.power(GL[PL-1-i], 2.)) + (DaL[PL-1-i]*DGL[PL-1-i])/(aL[PL-1-i]*GL[PL-1-i]))\n",
    "    DDaL[PL-1-i] = (aL[PL-1-i]/2.) * (L[PL-1-i]*np.power(c, 2.) + (DDGL[PL-1-i]/GL[PL-1-i]) - (2.*np.power(DGL[PL-1-i], 2.))/(np.power(GL[PL-1-i], 2.)) + (2.*DaL[PL-1-i]*DGL[PL-1-i])/(aL[PL-1-i]*GL[PL-1-i]) - (np.power(DaL[PL-1-i], 2.)/np.power(aL[PL-1-i], 2.)) - ((8*np.pi*GL[PL-1-i]*rho_r0)/(3*np.power(c, 2.)*np.power(aL[PL-1-i], 4.))))\n",
    "    aL[PL-1-i-1] = aL[PL-1-i] - DaL[PL-1-i]*Delta_tL\n",
    "    DaL[PL-1-i-1] = DaL[PL-1-i] - DDaL[PL-1-i]*Delta_tL\n",
    "    GL[PL-1-i-1] = GL[PL-1-i] - DGL[PL-1-i]*Delta_tL\n",
    "    DGL[PL-1-i-1] = DGL[PL-1-i] - DDGL[PL-1-i]*Delta_tL\n",
    "    tL[PL-1-i-1] = tL[PL-1-i] - Delta_tL\n",
    "    zL[PL-1-i-1] = (1./aL[PL-1-i-1]) - 1.\n",
    "    #if zL[PL-1-i-1] >= z[702770]: # forzar a que el redshift de la transición sea en el mismo que LCDM\n",
    "    #    print(i)\n",
    "    #    break\n",
    "    if (L[PL-1-i]*np.power(c, 4.))/(8*np.pi*GL[PL-1-i]) <= rho_m0/np.power(aL[PL-1-i], 3.): # forzar a que la transición sea cuando los rho se igualen\n",
    "        print(i)\n",
    "        break\n",
    "\n",
    "# Se dan los valores que faltaron en la iteración, en el inicio de la época dominada por Lambda\n",
    "L[0] = (3./np.power(c, 2.)) * ((np.power(DaL[0], 2.)/np.power(aL[0], 2.)) - (DaL[0]*DGL[0])/(aL[0]*GL[0])) - ((8*np.pi*GL[0]*rho_m0)/(np.power(c, 4.)*np.power(aL[0], 3.))) - ((8*np.pi*GL[0]*rho_r0)/(np.power(c, 4.)*np.power(aL[0], 4.)))\n",
    "DDGL[0] = GL[0] * ((2.*np.power(DGL[0], 2.))/(np.power(GL[0], 2.)) + (DaL[0]*DGL[0])/(aL[0]*GL[0]))\n",
    "DDaL[0] = (aL[0]/2.) * (L[0]*np.power(c, 2.) + (DDGL[0]/GL[0]) - (2.*np.power(DGL[0], 2.))/(np.power(GL[0], 2.)) + (2.*DaL[0]*DGL[0])/(aL[0]*GL[0]) - (np.power(DaL[0], 2.)/np.power(aL[0], 2.)) - ((8*np.pi*GL[0]*rho_r0)/(3*np.power(c, 2.)*np.power(aL[0], 4.))))\n",
    "\n",
    "HL = np.zeros(PL-1, dtype=np.float64)\n",
    "\n",
    "# Cálculo del parámetro de Hubble para la epoca de Lambda SD\n",
    "for i in range(PL-1):\n",
    "    HL[PL-2-i] = DaL[PL-2-i]/aL[PL-2-i]"
   ]
  },
  {
   "cell_type": "code",
   "execution_count": 16,
   "id": "3760dc07",
   "metadata": {},
   "outputs": [
    {
     "name": "stdout",
     "output_type": "stream",
     "text": [
      "a_0: 1.0\n",
      "Da_0: 2.3883495145631068e-18\n",
      "DDa_0: 3.4568234517862185e-36\n",
      "G_0: 6.6743e-11\n",
      "DG_0: 0.0\n",
      "DDG_0: 0.0\n",
      "L_0: 1.4039746815071233e-52\n",
      "t_0 en millones de años: 0.0\n",
      "z_0: 0.0\n",
      "h_0: 0.7380003384784439\n",
      " \n",
      "a_m-L: 0.7087835967769606\n",
      "Da_m-L: 2.055949521910545e-18\n",
      "DDa_m-L: 1.4893883393218203e-36\n",
      "G_m-L: 6.6743e-11\n",
      "DG_m-L: 0.0\n",
      "DDG_m-L: 0.0\n",
      "L_m-L: 1.4039738630153971e-52\n",
      "t_m-L en millones de años: -4196.268043308499\n",
      "z_m-L: 0.41086786509631823\n",
      "h_m-L: 0.8963079918316316\n"
     ]
    }
   ],
   "source": [
    "print(\"a_0:\", aL[PL-1])\n",
    "print(\"Da_0:\", DaL[PL-1])\n",
    "print(\"DDa_0:\", DDaL[PL-1])\n",
    "print(\"G_0:\", GL[PL-1])\n",
    "print(\"DG_0:\", DGL[PL-1])\n",
    "print(\"DDG_0:\", DDGL[PL-1])\n",
    "print(\"L_0:\", L[PL-1])\n",
    "print(\"t_0 en millones de años:\", tL[PL-1]/(60.*60.*24.*365.*np.power(10., 6.)))\n",
    "print(\"z_0:\", zL[PL-1])\n",
    "print(\"h_0:\", (HL[PL-2] * 3.09 * np.power(10., 16.) * np.power(10., 6.))/(100 * np.power(10., 3.)))\n",
    "print(\" \")\n",
    "print(\"a_m-L:\", aL[0])\n",
    "print(\"Da_m-L:\", DaL[0])\n",
    "print(\"DDa_m-L:\", DDaL[0])\n",
    "print(\"G_m-L:\", GL[0])\n",
    "print(\"DG_m-L:\", DGL[0])\n",
    "print(\"DDG_m-L:\", DDGL[0])\n",
    "print(\"L_m-L:\", L[0])\n",
    "print(\"t_m-L en millones de años:\", tL[0]/(60.*60.*24.*365.*np.power(10., 6.)))\n",
    "print(\"z_m-L:\", zL[0])\n",
    "print(\"h_m-L:\", (HL[0] * 3.09 * np.power(10., 16.) * np.power(10., 6.))/(100 * np.power(10., 3.)))"
   ]
  },
  {
   "cell_type": "code",
   "execution_count": 17,
   "id": "ba1ab18b",
   "metadata": {},
   "outputs": [],
   "source": [
    "# Dominio de materia\n",
    "\n",
    "# Parámetros iniciales\n",
    "Ptim = 1. # porcentaje del tiempo de transición radiacion-materia SD respecto a la cosmología clásica (1=100%, no hay cambio)\n",
    "\n",
    "Delta_tm = Delta_t[10000]\n",
    "tim = (t[702770]-t[285]) * Ptim # tiempo de transición radiacion-materia SD (duración de materia)\n",
    "Pm = 3554597 # número de pasos\n",
    "\n",
    "tm = np.zeros(Pm, dtype=np.float64)\n",
    "am = np.zeros(Pm, dtype=np.float64)\n",
    "Dam = np.zeros(Pm, dtype=np.float64)\n",
    "DDam = np.zeros(Pm, dtype=np.float64)\n",
    "Gm = np.zeros(Pm, dtype=np.float64)\n",
    "DGm = np.zeros(Pm, dtype=np.float64)\n",
    "DDGm = np.zeros(Pm, dtype=np.float64)\n",
    "rhom = np.zeros(Pm, dtype=np.float64)\n",
    "zm = np.zeros(Pm, dtype=np.float64)\n",
    "\n",
    "# Condiciones iniciales\n",
    "tm[Pm-1] = tL[0]\n",
    "am[Pm-1] = aL[0]\n",
    "Dam[Pm-1] = DaL[0]\n",
    "Gm[Pm-1] = GL[0]\n",
    "DGm[Pm-1] = DGL[0]\n",
    "zm[Pm-1] = (1./am[Pm-1]) - 1."
   ]
  },
  {
   "cell_type": "code",
   "execution_count": 18,
   "id": "df44f4a0",
   "metadata": {
    "scrolled": false
   },
   "outputs": [],
   "source": [
    "# Resolver la evolución del factor de escala en dominio de materia en cosmología SD\n",
    "for i in range(Pm-1):\n",
    "    rhom[Pm-1-i] = ((3.*np.power(c, 2.))/(8.*np.pi*Gm[Pm-1-i])) * ((np.power(Dam[Pm-1-i], 2.))/(np.power(am[Pm-1-i], 2.)) - (Dam[Pm-1-i]*DGm[Pm-1-i])/(am[Pm-1-i]*Gm[Pm-1-i])) - ((L[0]*np.power(c, 4.))/(8*np.pi*Gm[Pm-1-i])) - (rho_r0/np.power(am[Pm-1-i], 4.))\n",
    "    DDGm[Pm-1-i] = Gm[Pm-1-i] * ((2.*np.power(DGm[Pm-1-i], 2.))/(np.power(Gm[Pm-1-i], 2.)) + (Dam[Pm-1-i]*DGm[Pm-1-i])/(am[Pm-1-i]*Gm[Pm-1-i]))\n",
    "    DDam[Pm-1-i] = (am[Pm-1-i]/2.) * ((DDGm[Pm-1-i]/Gm[Pm-1-i]) - (2.*np.power(DGm[Pm-1-i], 2.))/(np.power(Gm[Pm-1-i], 2.)) + (2.*Dam[Pm-1-i]*DGm[Pm-1-i])/(am[Pm-1-i]*Gm[Pm-1-i]) - (np.power(Dam[Pm-1-i], 2.)/np.power(am[Pm-1-i], 2.)) + (L[0]*np.power(c, 2.)) - ((8*np.pi*Gm[Pm-1-i]*rho_r0)/(3*np.power(c, 2.)*np.power(am[Pm-1-i], 4.))))\n",
    "    #if i%80000 == 0:\n",
    "    #    print(tm[Pm-1-i])\n",
    "    #    print(am[Pm-1-i])\n",
    "    am[Pm-1-i-1] = am[Pm-1-i] - Dam[Pm-1-i]*Delta_tm\n",
    "    Dam[Pm-1-i-1] = Dam[Pm-1-i] - DDam[Pm-1-i]*Delta_tm\n",
    "    Gm[Pm-1-i-1] = Gm[Pm-1-i] - DGm[Pm-1-i]*Delta_tm\n",
    "    DGm[Pm-1-i-1] = DGm[Pm-1-i] - DDGm[Pm-1-i]*Delta_tm\n",
    "    tm[Pm-1-i-1] = tm[Pm-1-i] - Delta_tm\n",
    "    zm[Pm-1-i-1] = (1./am[Pm-1-i-1]) - 1.\n",
    "    #if zm[Pm-1-i-1] >= z[285]: # forzar a que el redshift de la transición sea en el mismo que LCDM\n",
    "    #    print(i)\n",
    "    #    break\n",
    "    if rhom[Pm-1-i] <= rho_r0/np.power(am[Pm-1-i], 4.): # forzar a que la transición sea cuando los rho se igualen\n",
    "        print(i)\n",
    "        break\n",
    "\n",
    "# Se dan los valores que faltaron en la iteración, en el inicio de la época dominada por materia\n",
    "rhom[0] = ((3.*np.power(c, 2.))/(8*np.pi*Gm[0])) * ((np.power(Dam[0], 2.)/np.power(am[0], 2.)) - (Dam[0]*DGm[0])/(am[0]*Gm[0])) - ((L[0]*np.power(c, 4.))/(8*np.pi*Gm[0])) - (rho_r0/np.power(am[0], 4.))\n",
    "DDGm[0] = Gm[0] * ((2.*np.power(DGm[0], 2.))/(np.power(Gm[0], 2.)) + (Dam[0]*DGm[0])/(am[0]*Gm[0]))\n",
    "DDam[0] = (am[0]/2.) * ((DDGm[0]/Gm[0]) - (2.*np.power(DGm[0], 2.))/(np.power(Gm[0], 2.)) + (2.*Dam[0]*DGm[0])/(am[0]*Gm[0]) - (np.power(Dam[0], 2.)/np.power(am[0], 2.)) + (L[0]*np.power(c, 2.)) - ((8*np.pi*Gm[0]*rho_r0)/(3*np.power(c, 2.)*np.power(am[0], 4.))))\n",
    "\n",
    "Hm = np.zeros(Pm-1, dtype=np.float64)\n",
    "\n",
    "# Cálculo del parámetro de Hubble para la epoca de materia SD\n",
    "for i in range(Pm-1):\n",
    "    Hm[Pm-2-i] = Dam[Pm-2-i]/am[Pm-2-i]"
   ]
  },
  {
   "cell_type": "code",
   "execution_count": 19,
   "id": "c9623268",
   "metadata": {},
   "outputs": [
    {
     "name": "stdout",
     "output_type": "stream",
     "text": [
      "a_CMB: 0.0009074064936270527\n",
      "Da_CMB: 4.662126049216808e-17\n",
      "DDa_CMB: -1.4886750367845637e-30\n",
      "G_CMB: 6.6743e-11\n",
      "DG_CMB: 0.0\n",
      "DDG_CMB: 0.0\n",
      "rhom_CMB: 0.3212101839634848\n",
      "t_CMB en años: -13275545114.236689\n",
      "z_CMB: 1101.0419261083705\n",
      "h_CMB: 15875.982366510198\n",
      " \n",
      "a_r-m: 0.0003022209355760466\n",
      "Da_r-m: 9.77882351612031e-17\n",
      "DDa_r-m: -2.369700730761807e-29\n",
      "G_r-m: 6.6743e-11\n",
      "DG_r-m: 0.0\n",
      "DDG_r-m: 0.0\n",
      "rhom_r-m: 8.449971990171885\n",
      "t_r-m en años: -13275859296.136366\n",
      "z_r-m: 3307.837616076978\n",
      "h_r-m: 99981.70579155158\n"
     ]
    }
   ],
   "source": [
    "print(\"a_CMB:\", am[123])\n",
    "print(\"Da_CMB:\", Dam[123])\n",
    "print(\"DDa_CMB:\", DDam[123])\n",
    "print(\"G_CMB:\", Gm[123])\n",
    "print(\"DG_CMB:\", DGm[123])\n",
    "print(\"DDG_CMB:\", DDGm[123])\n",
    "print(\"rhom_CMB:\", rhom[123])\n",
    "print(\"t_CMB en años:\", tm[123]/(60.*60.*24.*365.))\n",
    "print(\"z_CMB:\", zm[123])\n",
    "print(\"h_CMB:\", (Hm[123] * 3.09 * np.power(10., 16.) * np.power(10., 6.))/(100 * np.power(10., 3.)))\n",
    "print(\" \")\n",
    "print(\"a_r-m:\", am[0])\n",
    "print(\"Da_r-m:\", Dam[0])\n",
    "print(\"DDa_r-m:\", DDam[0])\n",
    "print(\"G_r-m:\", Gm[0])\n",
    "print(\"DG_r-m:\", DGm[0])\n",
    "print(\"DDG_r-m:\", DDGm[0])\n",
    "print(\"rhom_r-m:\", rhom[0])\n",
    "print(\"t_r-m en años:\", tm[0]/(60.*60.*24.*365.))\n",
    "print(\"z_r-m:\", zm[0])\n",
    "print(\"h_r-m:\", (Hm[0] * 3.09 * np.power(10., 16.) * np.power(10., 6.))/(100 * np.power(10., 3.)))"
   ]
  },
  {
   "cell_type": "code",
   "execution_count": 20,
   "id": "41c21413",
   "metadata": {},
   "outputs": [],
   "source": [
    "# Dominio de radiacion\n",
    "\n",
    "Delta_tr = Delta_t[0]\n",
    "tir = (t[285]-t[0]) # tiempo de inicio SD\n",
    "Pr = 2956 # número de pasos\n",
    "\n",
    "tr = np.zeros(Pr, dtype=np.float64)\n",
    "ar = np.zeros(Pr, dtype=np.float64)\n",
    "Dar = np.zeros(Pr, dtype=np.float64)\n",
    "DDar = np.zeros(Pr, dtype=np.float64)\n",
    "Gr = np.zeros(Pr, dtype=np.float64)\n",
    "DGr = np.zeros(Pr, dtype=np.float64)\n",
    "DDGr = np.zeros(Pr, dtype=np.float64)\n",
    "rhor = np.zeros(Pr, dtype=np.float64)\n",
    "zr = np.zeros(Pr, dtype=np.float64)\n",
    "\n",
    "# Condiciones iniciales\n",
    "ar[Pr-1] = am[0]\n",
    "Dar[Pr-1] = Dam[0]\n",
    "Gr[Pr-1] = Gm[0]\n",
    "DGr[Pr-1] = DGm[0]\n",
    "tr[Pr-1] = tm[0]\n",
    "zr[Pr-1] = (1./ar[Pr-1]) - 1."
   ]
  },
  {
   "cell_type": "code",
   "execution_count": 21,
   "id": "68d2f7b0",
   "metadata": {},
   "outputs": [],
   "source": [
    "# Resolver la evolución del factor de escala en dominio de radiación en cosmología SD\n",
    "for i in range(Pr-1):\n",
    "    rhor[Pr-1-i] = ((3.*np.power(c, 2.))/(8.*np.pi*Gr[Pr-1-i])) * ((np.power(Dar[Pr-1-i], 2.)/np.power(ar[Pr-1-i], 2.)) - (Dar[Pr-1-i]*DGr[Pr-1-i])/(ar[Pr-1-i]*Gr[Pr-1-i])) - (L[0]*np.power(c, 4.)) - (rho_m0/np.power(ar[Pr-1-i], 3.))\n",
    "    DDGr[Pr-1-i] = Gr[Pr-1-i] * ((2.*np.power(DGr[Pr-1-i], 2.))/(np.power(Gr[Pr-1-i], 2.)) + (Dar[Pr-1-i]*DGr[Pr-1-i])/(ar[Pr-1-i]*Gr[Pr-1-i]))\n",
    "    DDar[Pr-1-i] = (ar[Pr-1-i]/2.) * ((DDGr[Pr-1-i]/Gr[Pr-1-i]) - (2.*np.power(DGr[Pr-1-i], 2.))/(np.power(Gr[Pr-1-i], 2.)) + (2.*Dar[Pr-1-i]*DGr[Pr-1-i])/(ar[Pr-1-i]*Gr[Pr-1-i]) - (np.power(Dar[Pr-1-i], 2.)/np.power(ar[Pr-1-i], 2.)) + (L[0]*np.power(c, 2.)))\n",
    "    ar[Pr-1-i-1] = ar[Pr-1-i] - Dar[Pr-1-i]*Delta_tr\n",
    "    Dar[Pr-1-i-1] = Dar[Pr-1-i] - DDar[Pr-1-i]*Delta_tr\n",
    "    Gr[Pr-1-i-1] = Gr[Pr-1-i] - DGr[Pr-1-i]*Delta_tr\n",
    "    DGr[Pr-1-i-1] = DGr[Pr-1-i] - DDGr[Pr-1-i]*Delta_tr\n",
    "    tr[Pr-1-i-1] = tr[Pr-1-i] - Delta_tr\n",
    "    zr[Pr-1-i-1] = (1./ar[Pr-1-i-1]) - 1.\n",
    "    if ar[Pr-1-i-1] <= 0: # forzar a que termine en a=0\n",
    "        print(i)\n",
    "        break\n",
    "\n",
    "# Se dan los valores que faltaron en la iteración, en el inicio de la época dominada por radiación\n",
    "rhor[0] = ((3.*np.power(c, 2.))/(8*np.pi*Gr[0])) * ((np.power(Dar[0], 2.)/np.power(ar[0], 2.)) - (Dar[0]*DGr[0])/(ar[0]*Gr[0]))\n",
    "DDGr[0] = Gr[0] * ((2.*np.power(DGr[0], 2.))/(np.power(Gr[0], 2.)) + (Dar[0]*DGr[0])/(ar[0]*Gr[0]))\n",
    "DDar[0] = (ar[0]/2.) * ((DDGr[0]/Gr[0]) - (2.*np.power(DGr[0], 2.))/(np.power(Gr[0], 2.)) + (2.*Dar[0]*DGr[0])/(ar[0]*Gr[0]) - (np.power(Dar[0], 2.)/np.power(ar[0], 2.)))\n",
    "\n",
    "Hr = np.zeros(Pr-1, dtype=np.float64)\n",
    "\n",
    "# Cálculo del parámetro de Hubble para la epoca de materia SD\n",
    "for i in range(Pr-1):\n",
    "    Hr[Pr-2-i] = Dar[Pr-2-i]/ar[Pr-2-i]"
   ]
  },
  {
   "cell_type": "code",
   "execution_count": 22,
   "id": "0fc305f8",
   "metadata": {},
   "outputs": [
    {
     "name": "stdout",
     "output_type": "stream",
     "text": [
      "a_B: 2.0943341024431116e-06\n",
      "Da_B: 1.956328021150013e-15\n",
      "DDa_B: -9.13707923170459e-25\n",
      "G_B: 6.6743e-11\n",
      "DG_B: 0.0\n",
      "DDG_B: 0.0\n",
      "rhom_B: 140251817.94796106\n",
      "t_B en años: -13275916754.607628\n",
      "z_B: 477477.7360017994\n",
      "h_B: 288638454.4997754\n"
     ]
    }
   ],
   "source": [
    "print(\"a_B:\", ar[0])\n",
    "print(\"Da_B:\", Dar[0])\n",
    "print(\"DDa_B:\", DDar[0])\n",
    "print(\"G_B:\", Gr[0])\n",
    "print(\"DG_B:\", DGr[0])\n",
    "print(\"DDG_B:\", DDGr[0])\n",
    "print(\"rhom_B:\", rhor[0])\n",
    "print(\"t_B en años:\", tr[0]/(60.*60.*24.*365.))\n",
    "print(\"z_B:\", zr[0])\n",
    "print(\"h_B:\", (Hr[0] * 3.09 * np.power(10., 16.) * np.power(10., 6.))/(100 * np.power(10., 3.)))"
   ]
  },
  {
   "cell_type": "code",
   "execution_count": 23,
   "id": "6b0bb19a",
   "metadata": {},
   "outputs": [
    {
     "name": "stdout",
     "output_type": "stream",
     "text": [
      "h_CMB_aprox_cerca 15875.982366510198\n"
     ]
    }
   ],
   "source": [
    "h_CMB_aprox_cerca = (Hm[123] * 3.09 * np.power(10., 16.) * np.power(10., 6.))/(100 * np.power(10., 3.)) # valor de h en la época del CMB para LCDM considerando H0 cerca\n",
    "print(\"h_CMB_aprox_cerca\", h_CMB_aprox_cerca)"
   ]
  },
  {
   "cell_type": "code",
   "execution_count": 24,
   "id": "72531888",
   "metadata": {},
   "outputs": [
    {
     "name": "stdout",
     "output_type": "stream",
     "text": [
      "Error de h en la época del CMB introducido por el método aproximado: 0.06254782515552385 %\n"
     ]
    }
   ],
   "source": [
    "P_error_metodo = 100*abs(h_CMB_LCDM_cerca-h_CMB_aprox_cerca)/h_CMB_LCDM_cerca\n",
    "print(\"Error de h en la época del CMB introducido por el método aproximado:\", P_error_metodo, \"%\")"
   ]
  },
  {
   "cell_type": "markdown",
   "id": "f6f1e482",
   "metadata": {},
   "source": [
    "                                     ## Comparación LCDM con LCDM aproximado, H0 cerca ##"
   ]
  },
  {
   "cell_type": "code",
   "execution_count": 25,
   "id": "61deb750",
   "metadata": {},
   "outputs": [],
   "source": [
    "dif_H = np.zeros(PL+Pm+Pr, dtype=np.float64) # diferencia entre H de LCMD y H de LCDM aproximada\n",
    "z_ap = np.zeros(PL+Pm+Pr, dtype=np.float64)\n",
    "H_ap = np.zeros(PL+Pm+Pr, dtype=np.float64)\n",
    "\n",
    "for i in range(Pr+Pm+PL-1):\n",
    "    if i<Pr-1:\n",
    "        z_ap[i] = zr[i]\n",
    "        H_ap[i] = Hr[i]\n",
    "    if i>=Pr-1:\n",
    "        if i<Pr+Pm-1:\n",
    "            z_ap[i] = zm[i-Pr]\n",
    "            H_ap[i] = Hm[i-Pr]\n",
    "    if i>=Pr+Pm-1:\n",
    "        z_ap[i] = zL[i-Pr-Pm]\n",
    "        H_ap[i] = HL[i-Pr-Pm]\n",
    "\n",
    "pasos = 0\n",
    "\n",
    "for i in range(Pr+Pm+PL):\n",
    "    for j in range(P_ini-1-pasos):\n",
    "        if z_ap[i]>=z[j+pasos]:\n",
    "            dif_H[i] = 100*abs(H[j+pasos]-H_ap[i])/H[j+pasos]\n",
    "            pasos = pasos + 1\n",
    "            break"
   ]
  },
  {
   "cell_type": "code",
   "execution_count": 26,
   "id": "4b2359d9",
   "metadata": {},
   "outputs": [
    {
     "name": "stderr",
     "output_type": "stream",
     "text": [
      "C:\\Users\\yo_fu\\AppData\\Local\\Temp/ipykernel_17276/1859755484.py:9: RuntimeWarning: divide by zero encountered in log10\n",
      "  x1[i] = np.log10(z_ap[i+S1-ble])\n"
     ]
    },
    {
     "data": {
      "image/png": "[encoded data removed]",
      "text/plain": [
       "<Figure size 432x288 with 1 Axes>"
      ]
     },
     "metadata": {
      "needs_background": "light"
     },
     "output_type": "display_data"
    }
   ],
   "source": [
    "# Se excluyen los valores que no son de interes en la gráfica\n",
    "bla = 4159\n",
    "ble = 80000\n",
    "S1 = bla + ble\n",
    "x1 = np.zeros(PL+Pm+Pr-S1, dtype=float)\n",
    "y1 = np.zeros(PL+Pm+Pr-S1, dtype=float)\n",
    "\n",
    "for i in range(PL+Pm+Pr-S1):\n",
    "    x1[i] = np.log10(z_ap[i+S1-ble])\n",
    "    y1[i] = (H_ap[i+S1-ble]* 3.1 * np.power(10., 16.) * np.power(10., 6.))/100000\n",
    "\n",
    "plt.plot(x1, y1, linewidth=3)\n",
    "plt.xlabel('log(z)')\n",
    "plt.ylabel('h')\n",
    "plt.show()"
   ]
  },
  {
   "cell_type": "code",
   "execution_count": 27,
   "id": "14537f04",
   "metadata": {},
   "outputs": [
    {
     "name": "stderr",
     "output_type": "stream",
     "text": [
      "C:\\Users\\yo_fu\\AppData\\Local\\Temp/ipykernel_17276/740867874.py:9: RuntimeWarning: divide by zero encountered in log10\n",
      "  x2[i] = np.log10(z_ap[i+S1-ble])\n"
     ]
    },
    {
     "data": {
      "image/png": "[encoded data removed]",
      "text/plain": [
       "<Figure size 432x288 with 1 Axes>"
      ]
     },
     "metadata": {
      "needs_background": "light"
     },
     "output_type": "display_data"
    }
   ],
   "source": [
    "# Se excluyen los valores que no son de interes en la gráfica\n",
    "bla = 4159\n",
    "ble = 80000\n",
    "S1 = bla + ble\n",
    "x2 = np.zeros(PL+Pm+Pr-S1, dtype=float)\n",
    "y2 = np.zeros(PL+Pm+Pr-S1, dtype=float)\n",
    "\n",
    "for i in range(PL+Pm+Pr-S1):\n",
    "    x2[i] = np.log10(z_ap[i+S1-ble])\n",
    "    y2[i] = dif_H[i+S1-ble]\n",
    "\n",
    "plt.plot(x2, y2, linewidth=3)\n",
    "plt.xlabel('log(z)')\n",
    "plt.ylabel('error porcentual en H')\n",
    "plt.show()"
   ]
  },
  {
   "cell_type": "markdown",
   "id": "754edeff",
   "metadata": {},
   "source": []
  },
  {
   "cell_type": "markdown",
   "id": "5b6720cb",
   "metadata": {},
   "source": [
    "                                              ## Resetear en este punto ##"
   ]
  },
  {
   "cell_type": "markdown",
   "id": "0bb23d58",
   "metadata": {},
   "source": []
  },
  {
   "cell_type": "markdown",
   "id": "ac7ecdbd",
   "metadata": {},
   "source": [
    "                                              ## Cosmología LCDM, H0 lejos ##"
   ]
  },
  {
   "cell_type": "code",
   "execution_count": 1,
   "id": "68758597",
   "metadata": {},
   "outputs": [
    {
     "name": "stdout",
     "output_type": "stream",
     "text": [
      "1.20.3\n"
     ]
    }
   ],
   "source": [
    "import numpy as np\n",
    "import matplotlib.pyplot as plt\n",
    "\n",
    "print(np.__version__)"
   ]
  },
  {
   "cell_type": "code",
   "execution_count": 2,
   "id": "9b4a2ffa",
   "metadata": {},
   "outputs": [],
   "source": [
    "# Constantes medidas\n",
    "G0 = 6.67430 * np.power(10., -11.)\n",
    "h_lejos = 0.669 # valor de h hoy determinado a partir del CMB y de LCDM\n",
    "H0_lejos = (h_lejos * 100 * np.power(10., 3.)) / (3.09 * np.power(10., 16.) * np.power(10., 6.)) # Constante de Hubble medido en universo temprano\n",
    "c = 2.99792458 * np.power(10., 5.) * np.power(10., 3.)"
   ]
  },
  {
   "cell_type": "code",
   "execution_count": 3,
   "id": "fe7e53a6",
   "metadata": {},
   "outputs": [],
   "source": [
    "# Parámetros iniciales (parámetros de densidad asumiendo H0 medido en el universo temprano)\n",
    "Omega_r0 = (4.152 * np.power(10., -5.)) / np.power(h_lejos, 2.)\n",
    "Omega_m0 = 0.143 / np.power(h_lejos, 2.)\n",
    "Omega_L0 = 1 - Omega_m0 - Omega_r0\n",
    "L_clas = (3 * Omega_L0 * np.power(H0_lejos, 2.))/np.power(c, 2.)\n",
    "\n",
    "P = 1000000 # Número de pasos\n",
    "tHi = 0. # tiempo inicial multiplicado por H0\n",
    "tHf = 1. # tiempo final multiplicado por H0\n",
    "Delta_tH_ini = (tHf - tHi) / P # Largo del paso inicial\n",
    "\n",
    "a1 = np.zeros(P, dtype=np.float64)\n",
    "Delta_a = np.zeros(P, dtype=np.float64)\n",
    "tH = np.zeros(P, dtype=np.float64)\n",
    "Delta_tH = np.zeros(P, dtype=np.float64)\n",
    "\n",
    "# Condiciones iniciales\n",
    "a1[0] = 1.\n",
    "tH[0] = 1.\n",
    "Delta_tH[0] = Delta_tH_ini"
   ]
  },
  {
   "cell_type": "code",
   "execution_count": 4,
   "id": "2280313d",
   "metadata": {},
   "outputs": [],
   "source": [
    "# Resolver la evolución del factor de escala en cosmología clásica\n",
    "for i in range(P-1):\n",
    "    Delta_a[i] = np.sqrt((Omega_r0/np.power(a1[i], 2.)) + (Omega_m0/a1[i]) + (Omega_L0*np.power(a1[i], 2.))) * Delta_tH[i]\n",
    "    tH[i+1] = tH[i] - Delta_tH[i]\n",
    "    a1[i+1] = a1[i] - Delta_a[i]\n",
    "    Delta_tH[i+1] = (Delta_a[0]/Delta_tH[0]) * (Delta_tH[i]/Delta_a[i]) * Delta_tH[0]\n",
    "\n",
    "P_ini = P - 9\n",
    "t = np.zeros(P_ini, dtype=np.float64)\n",
    "a = np.zeros(P_ini, dtype=np.float64)\n",
    "z = np.zeros(P_ini, dtype=np.float64)\n",
    "Delta_t = np.zeros(P, dtype=np.float64)\n",
    "\n",
    "# Orden del factor de escala y del tiempo. Se excluyen los factores de escala negativos\n",
    "for i in range(P_ini):\n",
    "    t[i] = (tH[P_ini-i]/H0_lejos) - (tH[P_ini]/H0_lejos)\n",
    "    a[i] = a1[P_ini-i]\n",
    "    z[i] = (1./a[i]) - 1.\n",
    "\n",
    "for i in range(P):\n",
    "    Delta_t[i] = Delta_tH[P-1-i]/H0_lejos #se transforman los Delta_tH a Delta_t y se ordenan\n",
    "\n",
    "t0 = t[P_ini-1] # Edad del universo cosmología LCDM"
   ]
  },
  {
   "cell_type": "code",
   "execution_count": 5,
   "id": "90eba9d9",
   "metadata": {},
   "outputs": [],
   "source": [
    "Pm = P_ini - 1\n",
    "Da = np.zeros(Pm, dtype=np.float64)\n",
    "H = np.zeros(Pm, dtype=np.float64)\n",
    "\n",
    "# Cálculo de la derivada del factor de escala y del parámetro de Hubble\n",
    "for i in range(Pm):\n",
    "    Da[i] = (a[i+1]-a[i])/(t[i+1]-t[i])\n",
    "    H[i] = Da[i]/a[i]"
   ]
  },
  {
   "cell_type": "code",
   "execution_count": 6,
   "id": "6f9b488c",
   "metadata": {},
   "outputs": [
    {
     "name": "stdout",
     "output_type": "stream",
     "text": [
      "a_B: 2.5941567934856022e-08\n",
      "Da_B 1.1637961778724567e-14\n",
      "t_B en años: 0.0\n",
      "z_B: 38548170.12485958\n",
      "h_B: 138624241936.97256\n",
      " \n",
      "a_r-m: 0.00029015303474794175\n",
      "Da_r-m 1.0135873830262233e-16\n",
      "t_r-m en años: 50161.45509601725\n",
      "z_r-m: 3445.45714585997\n",
      "h_r-m: 107942.52130679283\n",
      "Ome_r-Ome_m: 0.7461867690285544\n",
      " \n",
      "a_CMB: 0.0009079300825899778\n",
      "Da_CMB 4.6627175314517976e-17\n",
      "t_CMB en años: 366939.48510616436\n",
      "z_CMB: 1100.4063959059292\n",
      "h_CMB: 15868.83995636108\n",
      " \n",
      "a_m-L: 0.7772730978350654\n",
      "Da_m-L 1.9632626305877053e-18\n",
      "t_m-L en millones de años: 10427.51728256271\n",
      "z_m-L: 0.28654909424408825\n",
      "h_m-L: 0.7804826315760763\n",
      "Ome_m-Ome_L: 4.5520317015768086e-08\n",
      " \n",
      "a_0: 0.999999\n",
      "Da_0 2.165047416399191e-18\n",
      "L_0 1.0645791827423848e-52\n",
      "t_0 en millones de años: 13867.070315271378\n",
      "z_0: 1.000001000006634e-06\n",
      "h_0: 0.669000989668981\n",
      "Omega_rad: 9.276947723327099e-05\n",
      "Omega_mat: 0.31950951937277816\n",
      "Omega_Lam: 0.6803977111499886\n"
     ]
    }
   ],
   "source": [
    "print(\"a_B:\", a[0])\n",
    "print(\"Da_B\", Da[0])\n",
    "print(\"t_B en años:\", t[0]/(60.*60.*24.*365.))\n",
    "print(\"z_B:\", z[0])\n",
    "print(\"h_B:\", (H[0] * 3.09 * np.power(10., 16.) * np.power(10., 6.))/(100 * np.power(10., 3.)))\n",
    "print(\" \")\n",
    "print(\"a_r-m:\", a[285])\n",
    "print(\"Da_r-m\", Da[285])\n",
    "print(\"t_r-m en años:\", t[285]/(60.*60.*24.*365.))\n",
    "print(\"z_r-m:\", z[285])\n",
    "print(\"h_r-m:\", (H[285] * 3.09 * np.power(10., 16.) * np.power(10., 6.))/(100 * np.power(10., 3.)))\n",
    "print(\"Ome_r-Ome_m:\", (Omega_r0/np.power(a[285], 2.)) - (Omega_m0/a[285]))\n",
    "print(\" \")\n",
    "print(\"a_CMB:\", a[902])\n",
    "print(\"Da_CMB\", Da[902])\n",
    "print(\"t_CMB en años:\", t[902]/(60.*60.*24.*365.))\n",
    "print(\"z_CMB:\", z[902])\n",
    "print(\"h_CMB:\", (H[902] * 3.09 * np.power(10., 16.) * np.power(10., 6.))/(100 * np.power(10., 3.)))\n",
    "print(\" \")\n",
    "print(\"a_m-L:\", a[777264])\n",
    "print(\"Da_m-L\", Da[777264])\n",
    "print(\"t_m-L en millones de años:\", t[777264]/(60.*60.*24.*365.*np.power(10., 6.)))\n",
    "print(\"z_m-L:\", z[777264])\n",
    "print(\"h_m-L:\", (H[777264] * 3.09 * np.power(10., 16.) * np.power(10., 6.))/(100 * np.power(10., 3.)))\n",
    "print(\"Ome_m-Ome_L:\", (Omega_m0/a[777264]) - (Omega_L0*np.power(a[777264], 2.)))\n",
    "print(\" \")\n",
    "print(\"a_0:\", a[P_ini-1])\n",
    "print(\"Da_0\", Da[P_ini-2])\n",
    "print(\"L_0\", L_clas)\n",
    "print(\"t_0 en millones de años:\", t[P_ini-1]/(60.*60.*24.*365.*np.power(10., 6.)))\n",
    "print(\"z_0:\", z[P_ini-1])\n",
    "print(\"h_0:\", (H[P_ini-2] * 3.09 * np.power(10., 16.) * np.power(10., 6.))/(100 * np.power(10., 3.)))\n",
    "print(\"Omega_rad:\", Omega_r0)\n",
    "print(\"Omega_mat:\", Omega_m0)\n",
    "print(\"Omega_Lam:\", Omega_L0)"
   ]
  },
  {
   "cell_type": "code",
   "execution_count": 7,
   "id": "1cdd0b3d",
   "metadata": {},
   "outputs": [
    {
     "name": "stdout",
     "output_type": "stream",
     "text": [
      "h_CMB_LCDM_lejos: 15868.83995636108\n"
     ]
    }
   ],
   "source": [
    "h_CMB_LCDM_lejos = (H[902] * 3.09 * np.power(10., 16.) * np.power(10., 6.))/(100 * np.power(10., 3.)) # valor de h en la época del CMB para LCDM considerando H0 lejos\n",
    "print(\"h_CMB_LCDM_lejos:\", h_CMB_LCDM_lejos)"
   ]
  },
  {
   "cell_type": "code",
   "execution_count": 8,
   "id": "3d7649a6",
   "metadata": {},
   "outputs": [],
   "source": [
    "h_CMB_LCDM_cerca = 15866.058491985557"
   ]
  },
  {
   "cell_type": "code",
   "execution_count": 11,
   "id": "c0d15aed",
   "metadata": {},
   "outputs": [
    {
     "name": "stdout",
     "output_type": "stream",
     "text": [
      "Error de h en la época del CMB considerando H0 lejos y H0 cerca: 0.0175309096265325 %\n"
     ]
    }
   ],
   "source": [
    "P_error_mediciones = 100*abs((h_CMB_LCDM_cerca-h_CMB_LCDM_lejos)/h_CMB_LCDM_cerca)\n",
    "print(\"Error de h en la época del CMB considerando H0 lejos y H0 cerca:\", P_error_mediciones, \"%\")"
   ]
  },
  {
   "cell_type": "markdown",
   "id": "f98d461e",
   "metadata": {},
   "source": [
    "                                       ## Cosmología LCDM aproximada, H0 lejos ##\n",
    "                                       \n",
    "                                       \n",
    "                                       Esto hay que actualizarlo"
   ]
  },
  {
   "cell_type": "code",
   "execution_count": null,
   "id": "c91ab46c",
   "metadata": {},
   "outputs": [],
   "source": [
    "# Dominio de Lambda\n",
    "\n",
    "# Parámetros iniciales\n",
    "c = 2.99792458 * np.power(10., 5.) * np.power(10., 3.)\n",
    "G0 = 6.67430 * np.power(10., -11.)\n",
    "DG0 = 0 * np.power(10., -14.) * G0 # Derivada de G hoy\n",
    "PtiL = 1. # porcentaje del tiempo de transición materia-Lambda SD respecto a la cosmología clásica (1=100%, no hay cambio)\n",
    "\n",
    "Delta_tL = Delta_t[777264]\n",
    "tiL = (t0-t[777264]) * PtiL # tiempo de transición materia-Lambda SD (duración de Lambda)\n",
    "PL = 228479 # número de pasos\n",
    "\n",
    "tL = np.zeros(PL, dtype=np.float64)\n",
    "aL = np.zeros(PL, dtype=np.float64)\n",
    "DaL = np.zeros(PL, dtype=np.float64)\n",
    "DDaL = np.zeros(PL, dtype=np.float64)\n",
    "GL = np.zeros(PL, dtype=np.float64)\n",
    "DGL = np.zeros(PL, dtype=np.float64)\n",
    "DDGL = np.zeros(PL, dtype=np.float64)\n",
    "L = np.zeros(PL, dtype=np.float64)\n",
    "zL = np.zeros(PL, dtype=np.float64)\n",
    "\n",
    "# Condiciones iniciales\n",
    "tL[PL-1] = 0 # esta edad no es relevante, la edad del universo SD es -t_B\n",
    "aL[PL-1] = 1.\n",
    "DaL[PL-1] = H0_lejos\n",
    "GL[PL-1] = G0\n",
    "DGL[PL-1] = DG0\n",
    "zL[PL-1] = (1./aL[PL-1]) - 1.\n",
    "\n",
    "# Resolver la evolución del factor de escala en dominio de Lambda en cosmología SD\n",
    "for i in range(PL-1):\n",
    "    if i == 0:\n",
    "        L[PL-1-i] = L_clas\n",
    "    if i != 0:\n",
    "        L[PL-1-i] = (3./np.power(c, 2.)) * ((np.power(DaL[PL-1-i], 2.)/np.power(aL[PL-1-i], 2.)) - (DaL[PL-1-i]*DGL[PL-1-i])/(aL[PL-1-i]*GL[PL-1-i]))\n",
    "    DDGL[PL-1-i] = GL[PL-1-i] * ((2.*np.power(DGL[PL-1-i], 2.))/(np.power(GL[PL-1-i], 2.)) + (DaL[PL-1-i]*DGL[PL-1-i])/(aL[PL-1-i]*GL[PL-1-i]))\n",
    "    DDaL[PL-1-i] = (aL[PL-1-i]/2.) * (L[PL-1-i]*np.power(c, 2.) + (DDGL[PL-1-i]/GL[PL-1-i]) - (2.*np.power(DGL[PL-1-i], 2.))/(np.power(GL[PL-1-i], 2.)) + (2.*DaL[PL-1-i]*DGL[PL-1-i])/(aL[PL-1-i]*GL[PL-1-i]) - (np.power(DaL[PL-1-i], 2.)/np.power(aL[PL-1-i], 2.)))\n",
    "    aL[PL-1-i-1] = aL[PL-1-i] - DaL[PL-1-i]*Delta_tL\n",
    "    DaL[PL-1-i-1] = DaL[PL-1-i] - DDaL[PL-1-i]*Delta_tL\n",
    "    GL[PL-1-i-1] = GL[PL-1-i] - DGL[PL-1-i]*Delta_tL\n",
    "    DGL[PL-1-i-1] = DGL[PL-1-i] - DDGL[PL-1-i]*Delta_tL\n",
    "    tL[PL-1-i-1] = tL[PL-1-i] - Delta_tL\n",
    "    zL[PL-1-i-1] = (1./aL[PL-1-i-1]) - 1.\n",
    "    if zL[PL-1-i-1] >= z[777264]:\n",
    "        print(i)\n",
    "        break\n",
    "\n",
    "# Se dan los valores que faltaron en la iteración, en el inicio de la época dominada por Lambda\n",
    "L[0] = (3./np.power(c, 2.)) * ((np.power(DaL[0], 2.)/np.power(aL[0], 2.)) - (DaL[0]*DGL[0])/(aL[0]*GL[0]))\n",
    "DDGL[0] = GL[0] * ((2.*np.power(DGL[0], 2.))/(np.power(GL[0], 2.)) + (DaL[0]*DGL[0])/(aL[0]*GL[0]))\n",
    "DDaL[0] = (aL[0]/2.) * (L[0]*np.power(c, 2.) + (DDGL[0]/GL[0]) - (2.*np.power(DGL[0], 2.))/(np.power(GL[0], 2.)) + (2.*DaL[0]*DGL[0])/(aL[0]*GL[0]) - (np.power(DaL[0], 2.)/np.power(aL[0], 2.)))\n",
    "\n",
    "HL = np.zeros(PL-1, dtype=np.float64)\n",
    "\n",
    "# Cálculo del parámetro de Hubble para la epoca de Lambda SD\n",
    "for i in range(PL-1):\n",
    "    HL[PL-2-i] = DaL[PL-2-i]/aL[PL-2-i]\n",
    "\n",
    "# Dominio de materia\n",
    "\n",
    "# Parámetros iniciales\n",
    "Ptim = 1. # porcentaje del tiempo de transición radiacion-materia SD respecto a la cosmología clásica (1=100%, no hay cambio)\n",
    "\n",
    "Delta_tm = Delta_t[10000]\n",
    "tim = (t[777264]-t[285]) * Ptim # tiempo de transición radiacion-materia SD (duración de materia)\n",
    "Pm = 3822588 # número de pasos\n",
    "\n",
    "tm = np.zeros(Pm, dtype=np.float64)\n",
    "am = np.zeros(Pm, dtype=np.float64)\n",
    "Dam = np.zeros(Pm, dtype=np.float64)\n",
    "DDam = np.zeros(Pm, dtype=np.float64)\n",
    "Gm = np.zeros(Pm, dtype=np.float64)\n",
    "DGm = np.zeros(Pm, dtype=np.float64)\n",
    "DDGm = np.zeros(Pm, dtype=np.float64)\n",
    "rhom = np.zeros(Pm, dtype=np.float64)\n",
    "zm = np.zeros(Pm, dtype=np.float64)\n",
    "\n",
    "# Condiciones iniciales\n",
    "tm[Pm-1] = tL[0]\n",
    "am[Pm-1] = aL[0]\n",
    "Dam[Pm-1] = DaL[0]\n",
    "Gm[Pm-1] = GL[0]\n",
    "DGm[Pm-1] = DGL[0]\n",
    "zm[Pm-1] = (1./am[Pm-1]) - 1.\n",
    "\n",
    "# Resolver la evolución del factor de escala en dominio de materia en cosmología SD\n",
    "for i in range(Pm-1):\n",
    "    rhom[Pm-1-i] = ((3.*np.power(c,2.))/(8.*np.pi*Gm[Pm-1-i])) * ((np.power(Dam[Pm-1-i],2.))/(np.power(am[Pm-1-i],2.)) - (Dam[Pm-1-i]*DGm[Pm-1-i])/(am[Pm-1-i]*Gm[Pm-1-i]))\n",
    "    DDGm[Pm-1-i] = Gm[Pm-1-i] * ((2.*np.power(DGm[Pm-1-i], 2.))/(np.power(Gm[Pm-1-i], 2.)) + (Dam[Pm-1-i]*DGm[Pm-1-i])/(am[Pm-1-i]*Gm[Pm-1-i]))\n",
    "    DDam[Pm-1-i] = (am[Pm-1-i]/2.) * ((DDGm[Pm-1-i]/Gm[Pm-1-i]) - (2.*np.power(DGm[Pm-1-i], 2.))/(np.power(Gm[Pm-1-i], 2.)) + (2.*Dam[Pm-1-i]*DGm[Pm-1-i])/(am[Pm-1-i]*Gm[Pm-1-i]) - (np.power(Dam[Pm-1-i], 2.)/np.power(am[Pm-1-i], 2.)))\n",
    "    #if i%80000 == 0:\n",
    "    #    print(tm[Pm-1-i])\n",
    "    #    print(am[Pm-1-i])\n",
    "    am[Pm-1-i-1] = am[Pm-1-i] - Dam[Pm-1-i]*Delta_tm\n",
    "    Dam[Pm-1-i-1] = Dam[Pm-1-i] - DDam[Pm-1-i]*Delta_tm\n",
    "    Gm[Pm-1-i-1] = Gm[Pm-1-i] - DGm[Pm-1-i]*Delta_tm\n",
    "    DGm[Pm-1-i-1] = DGm[Pm-1-i] - DDGm[Pm-1-i]*Delta_tm\n",
    "    tm[Pm-1-i-1] = tm[Pm-1-i] - Delta_tm\n",
    "    zm[Pm-1-i-1] = (1./am[Pm-1-i-1]) - 1.\n",
    "    if zm[Pm-1-i-1] >= z[285]:\n",
    "        print(i)\n",
    "        break\n",
    "\n",
    "# Se dan los valores que faltaron en la iteración, en el inicio de la época dominada por materia\n",
    "rhom[0] = ((3.*np.power(c, 2.))/(8*np.pi*Gm[0])) * ((np.power(Dam[0], 2.)/np.power(am[0], 2.)) - (Dam[0]*DGm[0])/(am[0]*Gm[0]))\n",
    "DDGm[0] = Gm[0] * ((2.*np.power(DGm[0], 2.))/(np.power(Gm[0], 2.)) + (Dam[0]*DGm[0])/(am[0]*Gm[0]))\n",
    "DDam[0] = (am[0]/2.) * ((DDGm[0]/Gm[0]) - (2.*np.power(DGm[0], 2.))/(np.power(Gm[0], 2.)) + (2.*Dam[0]*DGm[0])/(am[0]*Gm[0]) - (np.power(Dam[0], 2.)/np.power(am[0], 2.)))\n",
    "zm[Pm-1-i-1] = (1./am[Pm-1-i-1]) - 1.\n",
    "\n",
    "Hm = np.zeros(Pm-1, dtype=np.float64)\n",
    "\n",
    "# Cálculo del parámetro de Hubble para la epoca de materia SD\n",
    "for i in range(Pm-1):\n",
    "    Hm[Pm-2-i] = Dam[Pm-2-i]/am[Pm-2-i]"
   ]
  },
  {
   "cell_type": "code",
   "execution_count": null,
   "id": "6e587e4b",
   "metadata": {},
   "outputs": [],
   "source": [
    "h_CMB_aprox_lejos = (Hm[124] * 3.09 * np.power(10., 16.) * np.power(10., 6.))/(100 * np.power(10., 3.)) # valor de h en la época del CMB para LCDM considerando H0 lejos\n",
    "print(\"h_CMB_aprox_lejos\", h_CMB_aprox_lejos)"
   ]
  },
  {
   "cell_type": "code",
   "execution_count": null,
   "id": "733925e8",
   "metadata": {},
   "outputs": [],
   "source": [
    "P_error_metodo_k = 100*abs(h_CMB_LCDM_lejos-h_CMB_aprox_lejos)/h_CMB_LCDM_lejos\n",
    "print(\"Error de h en la época del CMB introducido por el método aproximado:\", P_error_metodo_k, \"%\")"
   ]
  }
 ],
 "metadata": {
  "kernelspec": {
   "display_name": "Python 3 (ipykernel)",
   "language": "python",
   "name": "python3"
  },
  "language_info": {
   "codemirror_mode": {
    "name": "ipython",
    "version": 3
   },
   "file_extension": ".py",
   "mimetype": "text/x-python",
   "name": "python",
   "nbconvert_exporter": "python",
   "pygments_lexer": "ipython3",
   "version": "3.10.9"
  }
 },
 "nbformat": 4,
 "nbformat_minor": 5
}
